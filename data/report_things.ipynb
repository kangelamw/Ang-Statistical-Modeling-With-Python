{
 "cells": [
  {
   "cell_type": "markdown",
   "metadata": {},
   "source": [
    "Just for markdown things."
   ]
  },
  {
   "cell_type": "code",
   "execution_count": 1,
   "metadata": {},
   "outputs": [],
   "source": [
    "# Imports\n",
    "import pandas as pd"
   ]
  },
  {
   "cell_type": "code",
   "execution_count": 4,
   "metadata": {},
   "outputs": [
    {
     "name": "stdout",
     "output_type": "stream",
     "text": [
      "| Tools      | Usecase                               |\n",
      "|:-----------|:--------------------------------------|\n",
      "| Github     | You're here!                          |\n",
      "| VS Code    | IDE                                   |\n",
      "| DB Diagram | Quick Interface to create DB Diagrams |\n"
     ]
    }
   ],
   "source": [
    "# Tools Chart\n",
    "tools = {\n",
    "  \"Github\": \"You're here!\",\n",
    "  \"VS Code\": \"IDE\",\n",
    "  \"DB Diagram\": \"Quick Interface to create DB Diagrams\",\n",
    "}\n",
    "\n",
    "tools_df = pd.DataFrame(tools.items(), columns=[\"Tools\", \"Usecase\"])\n",
    "p = tools_df.to_markdown(index=False)\n",
    "\n",
    "print(p)"
   ]
  },
  {
   "cell_type": "code",
   "execution_count": 5,
   "metadata": {},
   "outputs": [
    {
     "name": "stdout",
     "output_type": "stream",
     "text": [
      "| APIs       | Usecase           |\n",
      "|:-----------|:------------------|\n",
      "| CityBikes  | Bike Sharing Data |\n",
      "| Foursquare | POI Data          |\n",
      "| Yelp       | POI Data          |\n"
     ]
    }
   ],
   "source": [
    "# APIs Chart\n",
    "apis = {\n",
    "  \"CityBikes\": \"Bike Sharing Data\",\n",
    "  \"Foursquare\": \"POI Data\",\n",
    "  \"Yelp\": \"POI Data\",\n",
    "}\n",
    "\n",
    "apis_df = pd.DataFrame(apis.items(), columns=[\"APIs\", \"Usecase\"])\n",
    "pr = apis_df.to_markdown(index=False)\n",
    "\n",
    "print(pr)"
   ]
  },
  {
   "cell_type": "code",
   "execution_count": 12,
   "metadata": {},
   "outputs": [
    {
     "name": "stdout",
     "output_type": "stream",
     "text": [
      "| Python Libraries   | Usecase                                    | Install with pip         | Install with conda         |\n",
      "|:-------------------|:-------------------------------------------|:-------------------------|:---------------------------|\n",
      "| os                 | OS Operations, Loading system variables    | Built-in                 | Built-in                   |\n",
      "| json               | JSON Parsing                               | Built-in                 | Built-in                   |\n",
      "| time               | Time Operations, Time Delays for API Calls | Built-in                 | Built-in                   |\n",
      "| re                 | Regular Expressions, Used for cleaning     | Built-in                 | Built-in                   |\n",
      "| requests           | HTTP Requests, API calls                   | pip install requests     | conda install requests     |\n",
      "| pandas             | Data Manipulation                          | pip install pandas       | conda install pandas       |\n",
      "| matplotlib         | Data Visualization                         | pip install matplotlib   | conda install matplotlib   |\n",
      "| seaborn            | Data Visualization                         | pip install seaborn      | conda install seaborn      |\n",
      "| scikit-learn       | Machine Learning                           | pip install scikit-learn | conda install scikit-learn |\n",
      "| numpy              | Mathematical Operations                    | pip install numpy        | conda install numpy        |\n",
      "| statsmodels        | Statistical Operations                     | pip install statsmodels  | conda install statsmodels  |\n"
     ]
    }
   ],
   "source": [
    "# Python Libraries Chart\n",
    "python = {\n",
    "  \"os\": [\"OS Operations, Loading system variables\", \n",
    "         \"Built-in\",\n",
    "         \"Built-in\"],\n",
    "  \"json\": [\"JSON Parsing\", \n",
    "           \"Built-in\", \n",
    "           \"Built-in\"],\n",
    "  \"time\": [\"Time Operations, Time Delays for API Calls\", \n",
    "           \"Built-in\",\n",
    "           \"Built-in\"],\n",
    "  \"re\": [\"Regular Expressions, Used for cleaning\", \n",
    "         \"Built-in\", \n",
    "         \"Built-in\"],\n",
    "  \"requests\": [\"HTTP Requests, API calls\",\n",
    "               \"pip install requests\",\n",
    "               \"conda install requests\"],\n",
    "  \"pandas\": [\"Data Manipulation\",\n",
    "             \"pip install pandas\", \n",
    "             \"conda install pandas\"],\n",
    "  \"matplotlib\": [\"Data Visualization\", \n",
    "                 \"pip install matplotlib\", \n",
    "                 \"conda install matplotlib\"],\n",
    "  \"seaborn\": [\"Data Visualization\", \n",
    "              \"pip install seaborn\", \n",
    "              \"conda install seaborn\"],\n",
    "  \"scikit-learn\": [\"Machine Learning\", \n",
    "                   \"pip install scikit-learn\", \n",
    "                   \"conda install scikit-learn\"],\n",
    "  \"numpy\": [\"Mathematical Operations\", \n",
    "            \"pip install numpy\", \n",
    "            \"conda install numpy\"],\n",
    "  \"statsmodels\": [\"Statistical Operations\", \n",
    "                  \"pip install statsmodels\", \n",
    "                  \"conda install statsmodels\"]\n",
    "}\n",
    "\n",
    "python_df = pd.DataFrame.from_dict(python, orient='index', columns=[\"Usecase\", \"Install with pip\", \"Install with conda\"]).reset_index()\n",
    "python_df.rename(columns={'index': 'Python Libraries'}, inplace=True)\n",
    "\n",
    "pri = python_df.to_markdown(index=False)\n",
    "\n",
    "print(pri)"
   ]
  }
 ],
 "metadata": {
  "kernelspec": {
   "display_name": "ang-lhl_env",
   "language": "python",
   "name": "python3"
  },
  "language_info": {
   "codemirror_mode": {
    "name": "ipython",
    "version": 3
   },
   "file_extension": ".py",
   "mimetype": "text/x-python",
   "name": "python",
   "nbconvert_exporter": "python",
   "pygments_lexer": "ipython3",
   "version": "3.9.20"
  }
 },
 "nbformat": 4,
 "nbformat_minor": 2
}
