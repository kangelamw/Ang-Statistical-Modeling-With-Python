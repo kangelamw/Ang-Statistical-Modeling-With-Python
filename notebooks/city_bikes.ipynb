{
 "cells": [
  {
   "cell_type": "markdown",
   "metadata": {},
   "source": [
    "# CityBikes"
   ]
  },
  {
   "cell_type": "code",
   "execution_count": 1,
   "metadata": {},
   "outputs": [],
   "source": [
    "# Imports\n",
    "import requests\n",
    "import pandas as pd"
   ]
  },
  {
   "cell_type": "markdown",
   "metadata": {},
   "source": [
    "Send a request to CityBikes for the city of your choice. "
   ]
  },
  {
   "cell_type": "code",
   "execution_count": 2,
   "metadata": {},
   "outputs": [],
   "source": [
    "# GET request to the API\n",
    "get_response = requests.get(\"http://api.citybik.es/v2/networks\")\n",
    "networks = get_response.json()['networks']\n",
    "\n",
    "# networks # Viewing"
   ]
  },
  {
   "cell_type": "code",
   "execution_count": 3,
   "metadata": {},
   "outputs": [
    {
     "name": "stdout",
     "output_type": "stream",
     "text": [
      "Network ID: sobi-hamilton\n"
     ]
    }
   ],
   "source": [
    "id = None\n",
    "\n",
    "# Find the network with the city name \"Hamilton\"\n",
    "for network in networks:\n",
    "    if \"Hamilton\" in network['location']['city']:\n",
    "        network_find = network\n",
    "        break\n",
    "\n",
    "if not network:\n",
    "    print(\"Network not found.\")\n",
    "    exit()\n",
    "\n",
    "network_id = network['id']\n",
    "print(f\"Network ID: {network_id}\")"
   ]
  },
  {
   "cell_type": "code",
   "execution_count": 4,
   "metadata": {},
   "outputs": [],
   "source": [
    "network_id = 'sobi-hamilton'  \n",
    "url = f\"http://api.citybik.es/v2/networks/{network_id}\"\n",
    "\n",
    "response = requests.get(url)\n",
    "\n",
    "if response.status_code != 200:\n",
    "    print(f\"Failed to retrieve data: {response.status_code}\")\n",
    "    exit()\n",
    "\n",
    "data = response.json()\n",
    "stations = data['network']['stations']"
   ]
  },
  {
   "cell_type": "code",
   "execution_count": 5,
   "metadata": {},
   "outputs": [],
   "source": [
    "# Checking the output\n",
    "# data\n",
    "# stations"
   ]
  },
  {
   "cell_type": "code",
   "execution_count": 8,
   "metadata": {},
   "outputs": [
    {
     "data": {
      "text/plain": [
       "dict_keys(['id', 'name', 'latitude', 'longitude', 'timestamp', 'free_bikes', 'empty_slots', 'extra'])"
      ]
     },
     "execution_count": 8,
     "metadata": {},
     "output_type": "execute_result"
    }
   ],
   "source": [
    "stations[0].keys()"
   ]
  },
  {
   "cell_type": "code",
   "execution_count": 9,
   "metadata": {},
   "outputs": [
    {
     "data": {
      "text/plain": [
       "dict_keys(['uid', 'renting', 'returning', 'last_updated', 'address', 'payment', 'payment-terminal'])"
      ]
     },
     "execution_count": 9,
     "metadata": {},
     "output_type": "execute_result"
    }
   ],
   "source": [
    "stations[0]['extra'].keys()"
   ]
  },
  {
   "cell_type": "markdown",
   "metadata": {},
   "source": [
    "Parse through the response to get the details you want for the bike stations in that city (latitude, longitude, number of bikes). "
   ]
  },
  {
   "cell_type": "code",
   "execution_count": 11,
   "metadata": {},
   "outputs": [],
   "source": [
    "bike_network = []\n",
    "\n",
    "# Loop through the stations and extract the information\n",
    "for station in stations:\n",
    "    station_info = {\n",
    "        'station_id': station.get('id'),\n",
    "        'station_name': station.get('name'),\n",
    "        'station_address': station.get('extra', {}).get('address'),\n",
    "        'station_latitude': station.get('latitude'),\n",
    "        'station_longitude': station.get('longitude'),\n",
    "        'available_bikes': station.get('free_bikes'),\n",
    "        'empty_bike_slots': station.get('empty_slots')\n",
    "    }\n",
    "    bike_network.append(station_info)"
   ]
  },
  {
   "cell_type": "markdown",
   "metadata": {},
   "source": [
    "Put your parsed results into a DataFrame."
   ]
  },
  {
   "cell_type": "code",
   "execution_count": 19,
   "metadata": {},
   "outputs": [
    {
     "name": "stdout",
     "output_type": "stream",
     "text": [
      "(190, 7)\n",
      "Index(['station_id', 'station_name', 'station_address', 'station_latitude',\n",
      "       'station_longitude', 'available_bikes', 'empty_bike_slots'],\n",
      "      dtype='object')\n",
      "station_id           190\n",
      "station_name         190\n",
      "station_address      163\n",
      "station_latitude     190\n",
      "station_longitude    190\n",
      "available_bikes       19\n",
      "empty_bike_slots      25\n",
      "dtype: int64\n"
     ]
    }
   ],
   "source": [
    "citybikes = pd.DataFrame(bike_network)\n",
    "\n",
    "# Checking the output\n",
    "print(citybikes.shape)\n",
    "print(citybikes.columns)\n",
    "print(citybikes.nunique())"
   ]
  },
  {
   "cell_type": "code",
   "execution_count": 20,
   "metadata": {},
   "outputs": [
    {
     "data": {
      "text/html": [
       "<div>\n",
       "<style scoped>\n",
       "    .dataframe tbody tr th:only-of-type {\n",
       "        vertical-align: middle;\n",
       "    }\n",
       "\n",
       "    .dataframe tbody tr th {\n",
       "        vertical-align: top;\n",
       "    }\n",
       "\n",
       "    .dataframe thead th {\n",
       "        text-align: right;\n",
       "    }\n",
       "</style>\n",
       "<table border=\"1\" class=\"dataframe\">\n",
       "  <thead>\n",
       "    <tr style=\"text-align: right;\">\n",
       "      <th></th>\n",
       "      <th>station_id</th>\n",
       "      <th>station_name</th>\n",
       "      <th>station_address</th>\n",
       "      <th>station_latitude</th>\n",
       "      <th>station_longitude</th>\n",
       "      <th>available_bikes</th>\n",
       "      <th>empty_bike_slots</th>\n",
       "    </tr>\n",
       "  </thead>\n",
       "  <tbody>\n",
       "    <tr>\n",
       "      <th>0</th>\n",
       "      <td>024a3edf037cb411d16acc08a7fcb954</td>\n",
       "      <td>Bay at Strachan</td>\n",
       "      <td>325 Bay Street North, Hamilton</td>\n",
       "      <td>43.267859</td>\n",
       "      <td>-79.867923</td>\n",
       "      <td>1</td>\n",
       "      <td>23</td>\n",
       "    </tr>\n",
       "    <tr>\n",
       "      <th>1</th>\n",
       "      <td>0263c2af4dcdc215b9c81753a8df8a9a</td>\n",
       "      <td>MAC Rack ITB</td>\n",
       "      <td>2000 College Court, McMaster University, Hamilton</td>\n",
       "      <td>43.259178</td>\n",
       "      <td>-79.920503</td>\n",
       "      <td>2</td>\n",
       "      <td>12</td>\n",
       "    </tr>\n",
       "    <tr>\n",
       "      <th>2</th>\n",
       "      <td>0265404843dccbf9378ce9d56a570914</td>\n",
       "      <td>Augusta at John</td>\n",
       "      <td>62-64 Augusta Street, Hamilton</td>\n",
       "      <td>43.251632</td>\n",
       "      <td>-79.868980</td>\n",
       "      <td>0</td>\n",
       "      <td>10</td>\n",
       "    </tr>\n",
       "    <tr>\n",
       "      <th>3</th>\n",
       "      <td>05e87b8200ed015e7fb61865b83e3013</td>\n",
       "      <td>Hunter GO Centre</td>\n",
       "      <td>36 Hunter Street East, Hamilton</td>\n",
       "      <td>43.253330</td>\n",
       "      <td>-79.869533</td>\n",
       "      <td>6</td>\n",
       "      <td>11</td>\n",
       "    </tr>\n",
       "    <tr>\n",
       "      <th>4</th>\n",
       "      <td>05fffdca01b4d886a823b025b6a04080</td>\n",
       "      <td>Maple at Rothsay - ERI08</td>\n",
       "      <td>394 Maple Avenue, Hamilton</td>\n",
       "      <td>43.242163</td>\n",
       "      <td>-79.825003</td>\n",
       "      <td>4</td>\n",
       "      <td>5</td>\n",
       "    </tr>\n",
       "  </tbody>\n",
       "</table>\n",
       "</div>"
      ],
      "text/plain": [
       "                         station_id              station_name  \\\n",
       "0  024a3edf037cb411d16acc08a7fcb954           Bay at Strachan   \n",
       "1  0263c2af4dcdc215b9c81753a8df8a9a              MAC Rack ITB   \n",
       "2  0265404843dccbf9378ce9d56a570914           Augusta at John   \n",
       "3  05e87b8200ed015e7fb61865b83e3013          Hunter GO Centre   \n",
       "4  05fffdca01b4d886a823b025b6a04080  Maple at Rothsay - ERI08   \n",
       "\n",
       "                                     station_address  station_latitude  \\\n",
       "0                     325 Bay Street North, Hamilton         43.267859   \n",
       "1  2000 College Court, McMaster University, Hamilton         43.259178   \n",
       "2                     62-64 Augusta Street, Hamilton         43.251632   \n",
       "3                    36 Hunter Street East, Hamilton         43.253330   \n",
       "4                         394 Maple Avenue, Hamilton         43.242163   \n",
       "\n",
       "   station_longitude  available_bikes  empty_bike_slots  \n",
       "0         -79.867923                1                23  \n",
       "1         -79.920503                2                12  \n",
       "2         -79.868980                0                10  \n",
       "3         -79.869533                6                11  \n",
       "4         -79.825003                4                 5  "
      ]
     },
     "execution_count": 20,
     "metadata": {},
     "output_type": "execute_result"
    }
   ],
   "source": [
    "citybikes.head()"
   ]
  },
  {
   "cell_type": "code",
   "execution_count": null,
   "metadata": {},
   "outputs": [],
   "source": [
    "# Save the data to a CSV file\n",
    "citybikes.to_csv('../data/sql_ready/citybikes.csv', index=False)"
   ]
  }
 ],
 "metadata": {
  "kernelspec": {
   "display_name": "ang-lhl_env",
   "language": "python",
   "name": "python3"
  },
  "language_info": {
   "codemirror_mode": {
    "name": "ipython",
    "version": 3
   },
   "file_extension": ".py",
   "mimetype": "text/x-python",
   "name": "python",
   "nbconvert_exporter": "python",
   "pygments_lexer": "ipython3",
   "version": "3.9.20"
  }
 },
 "nbformat": 4,
 "nbformat_minor": 4
}
